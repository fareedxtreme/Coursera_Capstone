{
 "cells": [
  {
   "cell_type": "markdown",
   "id": "ceb17088-da3b-4e46-a475-f2554c20d9d8",
   "metadata": {},
   "source": [
    "<center><h1>APPLIED DATA SCIENCE CAPSTONE PROJECT</h1><h2>The Restaurant Battle of Neighborhoods in Riyadh</h2></center>"
   ]
  },
  {
   "cell_type": "markdown",
   "id": "b0f9f3d1-1bb4-4fb0-8741-473c85beb4d2",
   "metadata": {},
   "source": [
    "<h3>THE PROBLEM</h3>"
   ]
  },
  {
   "cell_type": "markdown",
   "id": "8011a1c1-059e-4d6e-8419-c6cbefc0a851",
   "metadata": {},
   "source": [
    "Riyadh, The heart of the Kingdom of Saudi Arabia has seen exponential growth in the past few years. It is the business hub of the country attracting investors, tourists an job-seekers alike, all looking for an opprtunity to make their mark. However, finding a decent restaurant can be a nightmare within the 1972 sqkm area of the city. Needless to say, fastfoods and various restaurants are always available in any high street, however, you can never be sure about the cuisine they have to offer unless some research is done."
   ]
  },
  {
   "cell_type": "markdown",
   "id": "ac798f7e-df0d-4540-8b55-d82b31a040c7",
   "metadata": {},
   "source": [
    "<h3>AVAILABLE DATA SOURCES</h3>"
   ]
  },
  {
   "cell_type": "markdown",
   "id": "7baa29b5-3cf6-4670-a1c5-8066ab0d999e",
   "metadata": {},
   "source": [
    "<h4>1. FOURSQUARE</h4>\n",
    "Foursquare is a US tech company from New York focusing on location data. Their technology and data powers apps such as Apple's Maps, Uber, Twitter and many other household names. Hence, will leverage the foursquare API to get the data pertaining to the restaurant name, ID, location and category of food (vegetarian, Italian etc.).\n",
    "<a href=https://developer.foursquare.com/>Foursquare API</a>\n",
    "<br>\n",
    "<h4>2. WIKIPEDIA</h4>\n",
    "In order to divide the city and get the relevant clusters, location data is key, and Wikipedia has this documented to some extent. As Riyadh is a massive city, it makes no sense to cater to all 130+ districts. Hence to make this project feasible we will only be using the 16 main municipal districts.\n",
    "<a href=https://en.wikipedia.org/wiki/Riyadh>Riyadh City</a>\n",
    "<br>\n",
    "<h4>3. ADDITIONAL DATA REQUIRED FOR ANALYSIS</h4>\n",
    "    a. Geolocation Coordinates: Further data discovery sessions are required to establish data availability. "
   ]
  },
  {
   "cell_type": "code",
   "execution_count": null,
   "id": "b4e8f7a3-55d8-4d2d-8965-094c227ebf27",
   "metadata": {},
   "outputs": [],
   "source": []
  }
 ],
 "metadata": {
  "kernelspec": {
   "display_name": "Python",
   "language": "python",
   "name": "conda-env-python-py"
  },
  "language_info": {
   "codemirror_mode": {
    "name": "ipython",
    "version": 3
   },
   "file_extension": ".py",
   "mimetype": "text/x-python",
   "name": "python",
   "nbconvert_exporter": "python",
   "pygments_lexer": "ipython3",
   "version": "3.6.13"
  }
 },
 "nbformat": 4,
 "nbformat_minor": 5
}
